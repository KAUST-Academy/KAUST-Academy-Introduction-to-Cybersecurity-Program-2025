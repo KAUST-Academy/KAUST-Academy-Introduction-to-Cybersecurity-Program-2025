{
 "cells": [
  {
   "cell_type": "markdown",
   "metadata": {},
   "source": [
    "1:    (no letters)\n",
    "2:    A B C\n",
    "3:    D E F\n",
    "4:    G H I\n",
    "5:    J K L\n",
    "6:    M N O\n",
    "7:    P Q R S\n",
    "8:    T U V\n",
    "9:    W X Y Z\n",
    "0:    (space)\n"
   ]
  },
  {
   "cell_type": "code",
   "execution_count": 5,
   "metadata": {},
   "outputs": [
    {
     "name": "stdout",
     "output_type": "stream",
     "text": [
      "Phone Pad Cipher Program\n",
      "Decrypted message: KAUSTTRAINING\n"
     ]
    }
   ],
   "source": [
    "# Phone Pad Cipher mapping\n",
    "phone_pad = {\n",
    "    'A': '2', 'B': '22', 'C': '222',\n",
    "    'D': '3', 'E': '33', 'F': '333',\n",
    "    'G': '4', 'H': '44', 'I': '444',\n",
    "    'J': '5', 'K': '55', 'L': '555',\n",
    "    'M': '6', 'N': '66', 'O': '666',\n",
    "    'P': '7', 'Q': '77', 'R': '777', 'S': '7777',\n",
    "    'T': '8', 'U': '88', 'V': '888',\n",
    "    'W': '9', 'X': '99', 'Y': '999', 'Z': '9999',\n",
    "    ' ': '0'\n",
    "}\n",
    "\n",
    "# Reverse mapping for decryption\n",
    "reverse_phone_pad = {v: k for k, v in phone_pad.items()}\n",
    "\n",
    "# Function to encrypt a message\n",
    "def encrypt_phone_pad(message):\n",
    "    encrypted_message = ''\n",
    "    for char in message.upper():\n",
    "        if char in phone_pad:\n",
    "            encrypted_message += phone_pad[char] + ' '\n",
    "        else:\n",
    "            encrypted_message += char + ' '\n",
    "    return encrypted_message.strip()\n",
    "\n",
    "# Function to decrypt a message\n",
    "def decrypt_phone_pad(encrypted_message):\n",
    "    decrypted_message = ''\n",
    "    for code in encrypted_message.split():\n",
    "        if code in reverse_phone_pad:\n",
    "            decrypted_message += reverse_phone_pad[code]\n",
    "        else:\n",
    "            decrypted_message += '?'\n",
    "    return decrypted_message\n",
    "\n",
    "# Main function\n",
    "def main():\n",
    "    print(\"Phone Pad Cipher Program\")\n",
    "    choice = input(\"Do you want to (E)ncrypt or (D)ecrypt a message? \").strip().upper()\n",
    "\n",
    "    if choice == 'E':\n",
    "        message = input(\"Enter the message to encrypt: \").strip()\n",
    "        encrypted_message = encrypt_phone_pad(message)\n",
    "        print(f\"Encrypted message: {encrypted_message}\")\n",
    "    elif choice == 'D':\n",
    "        encrypted_message = input(\"Enter the message to decrypt: \").strip()\n",
    "        decrypted_message = decrypt_phone_pad(encrypted_message)\n",
    "        print(f\"Decrypted message: {decrypted_message}\")\n",
    "    else:\n",
    "        print(\"Invalid choice. Please choose 'E' to encrypt or 'D' to decrypt.\")\n",
    "\n",
    "# Run the program\n",
    "if __name__ == \"__main__\":\n",
    "    main()\n"
   ]
  }
 ],
 "metadata": {
  "kernelspec": {
   "display_name": "CS",
   "language": "python",
   "name": "python3"
  },
  "language_info": {
   "codemirror_mode": {
    "name": "ipython",
    "version": 3
   },
   "file_extension": ".py",
   "mimetype": "text/x-python",
   "name": "python",
   "nbconvert_exporter": "python",
   "pygments_lexer": "ipython3",
   "version": "3.13.1"
  }
 },
 "nbformat": 4,
 "nbformat_minor": 2
}
